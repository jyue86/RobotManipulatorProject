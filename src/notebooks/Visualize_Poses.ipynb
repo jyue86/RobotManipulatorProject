{
 "cells": [
  {
   "cell_type": "markdown",
   "id": "d0e322b1",
   "metadata": {},
   "source": [
    "## Visualize KUKA Arm"
   ]
  },
  {
   "cell_type": "code",
   "execution_count": 1,
   "id": "de0eaf07",
   "metadata": {},
   "outputs": [],
   "source": [
    "from pydrake.geometry import (\n",
    "    ClippingRange,\n",
    "    ColorRenderCamera,\n",
    "    DepthRange,\n",
    "    DepthRenderCamera,\n",
    "    MakeRenderEngineVtk,\n",
    "    RenderCameraCore,\n",
    "    RenderEngineVtkParams,\n",
    "    RenderLabel,\n",
    "    Role,\n",
    "    StartMeshcat,\n",
    ")\n",
    "from pydrake.math import RigidTransform, RollPitchYaw\n",
    "from pydrake.multibody.parsing import Parser\n",
    "from pydrake.multibody.plant import AddMultibodyPlantSceneGraph\n",
    "from pydrake.multibody.tree import BodyIndex\n",
    "from pydrake.systems.analysis import Simulator\n",
    "from pydrake.systems.framework import DiagramBuilder\n",
    "from pydrake.systems.controllers import InverseDynamicsController\n",
    "from pydrake.systems.primitives import ConstantVectorSource\n",
    "\n",
    "import copy\n",
    "import os\n",
    "\n",
    "import matplotlib.pyplot as plt\n",
    "import matplotlib as mpl\n",
    "import numpy as np\n",
    "\n",
    "from pydrake.visualization import AddDefaultVisualization\n",
    "\n",
    "from manipulation.meshcat_utils import AddMeshcatTriad\n",
    "from manipulation.scenarios import AddMultibodyTriad"
   ]
  },
  {
   "cell_type": "code",
   "execution_count": 2,
   "id": "6cac02b8",
   "metadata": {},
   "outputs": [
    {
     "name": "stderr",
     "output_type": "stream",
     "text": [
      "INFO:drake:Meshcat listening for connections at http://localhost:7000\n"
     ]
    }
   ],
   "source": [
    "meshcat = StartMeshcat()"
   ]
  },
  {
   "cell_type": "code",
   "execution_count": 3,
   "id": "f9314351",
   "metadata": {},
   "outputs": [],
   "source": [
    "builder = DiagramBuilder()\n",
    "plant, scene_graph = AddMultibodyPlantSceneGraph(builder, 0.0)\n",
    "\n",
    "iiwa_url = (\n",
    "   \"package://drake/manipulation/models/iiwa_description/sdf/\"\n",
    "   \"iiwa14_no_collision.sdf\"\n",
    ")\n",
    "(iiwa_instance,) = Parser(plant).AddModels(url=iiwa_url)\n",
    "plant.WeldFrames(\n",
    "    frame_on_parent_F=plant.world_frame(),\n",
    "    frame_on_child_M=plant.GetFrameByName(\"iiwa_link_0\", iiwa_instance),\n",
    ")\n",
    "plant.Finalize()\n",
    "\n",
    "for i in range(8):\n",
    "    link_str = f\"iiwa_link_{i}\"\n",
    "    AddMultibodyTriad(plant.GetFrameByName(link_str), scene_graph)\n",
    "\n",
    "kp, ki, kd = np.zeros(7), np.zeros(7), np.zeros(7)\n",
    "kp[:] = 0.3\n",
    "controller = builder.AddSystem(InverseDynamicsController(plant, kp, ki, kd, False))\n",
    "    \n",
    "desired_state_input = np.array([[-0.1, -0.2, -0.3, -0.4, -0.5, -0.6, -0.7, -0.7, -0.6, -0.5, -0.4, -0.3, -0.2, -0.1]]).T\n",
    "builder.AddSystem(ConstantVectorSource(desired_state_input))\n",
    "\n",
    "desired_state_input = np.array([[-0.1, -0.2, -0.3, -0.4, -0.5, -0.6, -0.7, -0.7, -0.6, -0.5, -0.4, -0.3, -0.2, -0.1]]).T\n",
    "desired_state_source = builder.AddSystem(ConstantVectorSource(desired_state_input))\n",
    "desired_state_source.set_name(\"desired_state_constant\")\n",
    "\n",
    "builder.Connect(plant.get_state_output_port(), controller.get_input_port_estimated_state())\n",
    "builder.Connect(controller.get_output_port_control(), plant.get_actuation_input_port(iiwa_instance))\n",
    "builder.Connect(desired_state_source.get_output_port(), controller.get_input_port_desired_state())\n",
    "\n",
    "renderer_name = \"renderer\"\n",
    "scene_graph.AddRenderer(\n",
    "    renderer_name, MakeRenderEngineVtk(RenderEngineVtkParams()))"
   ]
  },
  {
   "cell_type": "code",
   "execution_count": 4,
   "id": "a2a148f0",
   "metadata": {},
   "outputs": [
    {
     "data": {
      "text/plain": [
       "<pydrake.systems.analysis.SimulatorStatus at 0x7fe6a3ad0ff0>"
      ]
     },
     "execution_count": 4,
     "metadata": {},
     "output_type": "execute_result"
    }
   ],
   "source": [
    "AddDefaultVisualization(builder=builder, meshcat=meshcat)\n",
    "diagram = builder.Build()\n",
    "simulation = Simulator(diagram)\n",
    "simulation.Initialize()"
   ]
  },
  {
   "cell_type": "code",
   "execution_count": 7,
   "id": "c56540cf",
   "metadata": {},
   "outputs": [
    {
     "data": {
      "text/plain": [
       "<pydrake.systems.analysis.SimulatorStatus at 0x7fe66a0dceb0>"
      ]
     },
     "execution_count": 7,
     "metadata": {},
     "output_type": "execute_result"
    }
   ],
   "source": [
    "simulation.AdvanceTo(300)"
   ]
  },
  {
   "cell_type": "code",
   "execution_count": null,
   "id": "fe399136",
   "metadata": {},
   "outputs": [],
   "source": []
  }
 ],
 "metadata": {
  "kernelspec": {
   "display_name": "Python 3 (ipykernel)",
   "language": "python",
   "name": "python3"
  },
  "language_info": {
   "codemirror_mode": {
    "name": "ipython",
    "version": 3
   },
   "file_extension": ".py",
   "mimetype": "text/x-python",
   "name": "python",
   "nbconvert_exporter": "python",
   "pygments_lexer": "ipython3",
   "version": "3.10.6"
  }
 },
 "nbformat": 4,
 "nbformat_minor": 5
}
